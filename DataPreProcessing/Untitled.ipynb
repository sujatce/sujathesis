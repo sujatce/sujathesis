{
 "cells": [
  {
   "cell_type": "code",
   "execution_count": null,
   "id": "074eeea7",
   "metadata": {},
   "outputs": [
    {
     "name": "stdout",
     "output_type": "stream",
     "text": [
      "Goal: using the input file  data/input/trafficData_V15.csv  , prepare a graphical representation of RPC Node Pair calls and its traffic distribution into File1: adjacency weight matrix(spatial data) and File2:traffic data (Temporal Data)\n",
      "1669531459253042\n",
      "2022-11-27 06:44:19.253042\n",
      "translated timestamp into visible format in CSV file -  data/V15_step1_TS_trafficData.csv\n",
      "Step 2 - Translate all traces and spans into trace,source, destination, rpcCall, rpcNumber, startTime and Timestamp. Also summarize the total event types\n",
      "Test Number: 15\n",
      "\n",
      "\n",
      "Total Number of spans: 6284\n",
      "\n",
      "Total Number of event types: 53\n",
      "\n",
      "Total number of traces: 413\n",
      "Span List is stored in  data/V15_mySpanDataDF.csv\n",
      "Step 3 - This step extracts all RPCNodePairs from traffic file.\n",
      "Length of my span list (6284, 7)\n",
      "Length of destination 6284\n",
      "rpcPairNodes and myStaticRPCNodeList are created\n",
      "Step 4 - This step generates Weighted Adjacency Matrix from RPC Node pair list, This is Spatial representation of Traffic Data\n",
      "Adjacency Matrix is created\n",
      "Step 5 - This step translates traffic file into graphical representation such as each traffic call with its corresponding RPC node pairs\n"
     ]
    }
   ],
   "source": [
    "!python processdata.py"
   ]
  },
  {
   "cell_type": "code",
   "execution_count": null,
   "id": "981e726e-91e7-4aa4-af81-d09af34cdad9",
   "metadata": {},
   "outputs": [],
   "source": []
  },
  {
   "cell_type": "code",
   "execution_count": null,
   "id": "51f9a167-3641-4f4f-b23f-e49c62cfacae",
   "metadata": {},
   "outputs": [],
   "source": []
  }
 ],
 "metadata": {
  "instance_type": "ml.p3dn.24xlarge",
  "kernelspec": {
   "display_name": "Python 3 (TensorFlow 1.15 Python 3.6 CPU Optimized)",
   "language": "python",
   "name": "python3__SAGEMAKER_INTERNAL__arn:aws:sagemaker:us-east-1:081325390199:image/tensorflow-1.15-cpu-py36"
  },
  "language_info": {
   "codemirror_mode": {
    "name": "ipython",
    "version": 3
   },
   "file_extension": ".py",
   "mimetype": "text/x-python",
   "name": "python",
   "nbconvert_exporter": "python",
   "pygments_lexer": "ipython3",
   "version": "3.6.13"
  }
 },
 "nbformat": 4,
 "nbformat_minor": 5
}
