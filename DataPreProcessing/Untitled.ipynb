{
 "cells": [
  {
   "cell_type": "code",
   "execution_count": null,
   "id": "42fefc68-a5ac-4f78-aea2-b1690f2f0235",
   "metadata": {},
   "outputs": [
    {
     "name": "stdout",
     "output_type": "stream",
     "text": [
      "Goal: using the input file  data/trafficData_V11.csv  , prepare a graphical representation of RPC Node Pair calls and its traffic distribution into File1: adjacency weight matrix(spatial data) and File2:traffic data (Temporal Data)\n",
      "1669361909232104\n",
      "2022-11-25 07:38:29.232104\n",
      "translated timestamp into visible format in CSV file -  data/V11_step1_TS_trafficData.csv\n",
      "Step 2 - Translate all traces and spans into trace,source, destination, rpcCall, rpcNumber, startTime and Timestamp. Also summarize the total event types\n",
      "Test Number: 11\n",
      "\n",
      "\n",
      "Total Number of spans: 220\n",
      "\n",
      "Total Number of event types: 1\n",
      "\n",
      "Total number of traces: 220\n",
      "Span List is stored in  data/V11_mySpanDataDF.csv\n",
      "Length of my span list (220, 7)\n",
      "Length of destination 220\n",
      "i: 0\n",
      "rpcPairNodes and myStaticRPCNodeList are created\n",
      "Adjacency Matrix is created\n",
      "Step 5 Completed - \n",
      "step 6 started - compute the traffic of all microservice pair nodes at fixed time periods\n"
     ]
    }
   ],
   "source": [
    "!python processdata.py"
   ]
  },
  {
   "cell_type": "code",
   "execution_count": null,
   "id": "c32a1748-ea1a-4654-9883-7cb36bb403be",
   "metadata": {},
   "outputs": [],
   "source": []
  }
 ],
 "metadata": {
  "instance_type": "ml.t3.medium",
  "kernelspec": {
   "display_name": "Python 3 (TensorFlow 1.15 Python 3.6 CPU Optimized)",
   "language": "python",
   "name": "python3__SAGEMAKER_INTERNAL__arn:aws:sagemaker:us-east-1:081325390199:image/tensorflow-1.15-cpu-py36"
  },
  "language_info": {
   "codemirror_mode": {
    "name": "ipython",
    "version": 3
   },
   "file_extension": ".py",
   "mimetype": "text/x-python",
   "name": "python",
   "nbconvert_exporter": "python",
   "pygments_lexer": "ipython3",
   "version": "3.6.13"
  }
 },
 "nbformat": 4,
 "nbformat_minor": 5
}
