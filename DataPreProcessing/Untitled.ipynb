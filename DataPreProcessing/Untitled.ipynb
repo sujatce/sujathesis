{
 "cells": [
  {
   "cell_type": "code",
   "execution_count": 12,
   "id": "074eeea7",
   "metadata": {},
   "outputs": [
    {
     "name": "stdout",
     "output_type": "stream",
     "text": [
      "Goal: using the input file  data/input/trafficData_V15.csv  , prepare a graphical representation of RPC Node Pair calls and its traffic distribution into File1: adjacency weight matrix(spatial data) and File2:traffic data (Temporal Data)\n",
      "1669531459253042\n",
      "2022-11-27 06:44:19.253042\n",
      "translated timestamp into visible format in CSV file -  data/V15_step1_TS_trafficData.csv\n",
      "Step 2 - Translate all traces and spans into trace,source, destination, rpcCall, rpcNumber, startTime and Timestamp. Also summarize the total event types\n",
      "Test Number: 15\n",
      "\n",
      "\n",
      "Total Number of spans: 6284\n",
      "\n",
      "Total Number of event types: 53\n",
      "\n",
      "Total number of traces: 413\n",
      "Span List is stored in  data/V15_mySpanDataDF.csv\n",
      "Length of my span list (6284, 7)\n",
      "Length of destination 6284\n",
      "rpcPairNodes and myStaticRPCNodeList are created\n",
      "Adjacency Matrix is created\n",
      "Step 5 Completed - \n",
      "step 6 started - compute the traffic of all microservice pair nodes at fixed time periods\n",
      "get time intervals\n",
      "first_ts 1669531459252000\n",
      "last_ts 1669531579903117\n",
      "range(1669531459252000, 1669531579903118)\n",
      "1206511\n",
      "time_stamp_intervals -  [1669531459435831, 1669531460642342, 1669531461848853, 1669531463055364, 1669531464261875, 1669531465468386, 1669531466674897, 1669531467881408, 1669531469087919, 1669531470294430, 1669531471500941, 1669531472707452, 1669531473913963, 1669531475120474, 1669531476326985, 1669531477533496, 1669531478740007, 1669531479946518, 1669531481153029, 1669531482359540, 1669531483566051, 1669531484772562, 1669531485979073, 1669531487185584, 1669531488392095, 1669531489598606, 1669531490805117, 1669531492011628, 1669531493218139, 1669531494424650, 1669531495631161, 1669531496837672, 1669531498044183, 1669531499250694, 1669531500457205, 1669531501663716, 1669531502870227, 1669531504076738, 1669531505283249, 1669531506489760, 1669531507696271, 1669531508902782, 1669531510109293, 1669531511315804, 1669531512522315, 1669531513728826, 1669531514935337, 1669531516141848, 1669531517348359, 1669531518554870, 1669531519761381, 1669531520967892, 1669531522174403, 1669531523380914, 1669531524587425, 1669531525793936, 1669531527000447, 1669531528206958, 1669531529413469, 1669531530619980, 1669531531826491, 1669531533033002, 1669531534239513, 1669531535446024, 1669531536652535, 1669531537859046, 1669531539065557, 1669531540272068, 1669531541478579, 1669531542685090, 1669531543891601, 1669531545098112, 1669531546304623, 1669531547511134, 1669531548717645, 1669531549924156, 1669531551130667, 1669531552337178, 1669531553543689, 1669531554750200, 1669531555956711, 1669531557163222, 1669531558369733, 1669531559576244, 1669531560782755, 1669531561989266, 1669531563195777, 1669531564402288, 1669531565608799, 1669531566815310, 1669531568021821, 1669531569228332, 1669531570434843, 1669531571641354, 1669531572847865, 1669531574054376, 1669531575260887, 1669531576467398, 1669531577673909, 1669531578880420, 1669531580086931]\n",
      "length of time stamp intervals -  101\n",
      "length =  6284\n",
      "computing microservice traffic for temporal interval is completed\n",
      "Successfully created temporal traffic file\n"
     ]
    }
   ],
   "source": [
    "!python processdata.py"
   ]
  },
  {
   "cell_type": "code",
   "execution_count": null,
   "id": "981e726e-91e7-4aa4-af81-d09af34cdad9",
   "metadata": {},
   "outputs": [],
   "source": []
  },
  {
   "cell_type": "code",
   "execution_count": null,
   "id": "51f9a167-3641-4f4f-b23f-e49c62cfacae",
   "metadata": {},
   "outputs": [],
   "source": []
  }
 ],
 "metadata": {
  "instance_type": "ml.p3dn.24xlarge",
  "kernelspec": {
   "display_name": "Python 3 (TensorFlow 1.15 Python 3.6 CPU Optimized)",
   "language": "python",
   "name": "python3__SAGEMAKER_INTERNAL__arn:aws:sagemaker:us-east-1:081325390199:image/tensorflow-1.15-cpu-py36"
  },
  "language_info": {
   "codemirror_mode": {
    "name": "ipython",
    "version": 3
   },
   "file_extension": ".py",
   "mimetype": "text/x-python",
   "name": "python",
   "nbconvert_exporter": "python",
   "pygments_lexer": "ipython3",
   "version": "3.6.13"
  }
 },
 "nbformat": 4,
 "nbformat_minor": 5
}
