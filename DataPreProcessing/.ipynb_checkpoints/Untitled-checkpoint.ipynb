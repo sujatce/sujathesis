{
 "cells": [
  {
   "cell_type": "code",
   "execution_count": 10,
   "id": "074eeea7",
   "metadata": {},
   "outputs": [
    {
     "name": "stdout",
     "output_type": "stream",
     "text": [
      "Goal: using the input file  data/input/trafficData_V15.csv  , prepare a graphical representation of RPC Node Pair calls and its traffic distribution into File1: adjacency weight matrix(spatial data) and File2:traffic data (Temporal Data)\n",
      "1669532244019786\n",
      "2022-11-27 06:57:24.019786\n",
      "translated timestamp into visible format in CSV file -  data/V15_step1_TS_trafficData.csv\n",
      "Step 2 - Translate all traces and spans into trace,source, destination, rpcCall, rpcNumber, startTime and Timestamp. Also summarize the total event types\n",
      "Test Number: 15\n",
      "\n",
      "\n",
      "Total Number of spans: 12508\n",
      "\n",
      "Total Number of event types: 53\n",
      "\n",
      "Total number of traces: 791\n",
      "Span List is stored in  data/V15_mySpanDataDF.csv\n",
      "Length of my span list (12508, 7)\n",
      "Length of destination 12508\n",
      "rpcPairNodes and myStaticRPCNodeList are created\n",
      "Adjacency Matrix is created\n",
      "Step 5 Completed - \n",
      "step 6 started - compute the traffic of all microservice pair nodes at fixed time periods\n",
      "get time intervals\n",
      "first_ts 1669532244019000\n",
      "last_ts 1669532369778207\n",
      "range(1669532244019000, 1669532369778208)\n",
      "1257592\n",
      "time_stamp_intervals -  [1669532244851912, 1669532246109504, 1669532247367096, 1669532248624688, 1669532249882280, 1669532251139872, 1669532252397464, 1669532253655056, 1669532254912648, 1669532256170240, 1669532257427832, 1669532258685424, 1669532259943016, 1669532261200608, 1669532262458200, 1669532263715792, 1669532264973384, 1669532266230976, 1669532267488568, 1669532268746160, 1669532270003752, 1669532271261344, 1669532272518936, 1669532273776528, 1669532275034120, 1669532276291712, 1669532277549304, 1669532278806896, 1669532280064488, 1669532281322080, 1669532282579672, 1669532283837264, 1669532285094856, 1669532286352448, 1669532287610040, 1669532288867632, 1669532290125224, 1669532291382816, 1669532292640408, 1669532293898000, 1669532295155592, 1669532296413184, 1669532297670776, 1669532298928368, 1669532300185960, 1669532301443552, 1669532302701144, 1669532303958736, 1669532305216328, 1669532306473920, 1669532307731512, 1669532308989104, 1669532310246696, 1669532311504288, 1669532312761880, 1669532314019472, 1669532315277064, 1669532316534656, 1669532317792248, 1669532319049840, 1669532320307432, 1669532321565024, 1669532322822616, 1669532324080208, 1669532325337800, 1669532326595392, 1669532327852984, 1669532329110576, 1669532330368168, 1669532331625760, 1669532332883352, 1669532334140944, 1669532335398536, 1669532336656128, 1669532337913720, 1669532339171312, 1669532340428904, 1669532341686496, 1669532342944088, 1669532344201680, 1669532345459272, 1669532346716864, 1669532347974456, 1669532349232048, 1669532350489640, 1669532351747232, 1669532353004824, 1669532354262416, 1669532355520008, 1669532356777600, 1669532358035192, 1669532359292784, 1669532360550376, 1669532361807968, 1669532363065560, 1669532364323152, 1669532365580744, 1669532366838336, 1669532368095928, 1669532369353520, 1669532370611112]\n",
      "length of time stamp intervals -  101\n",
      "length =  12508\n",
      "computing microservice traffic for temporal interval is completed\n",
      "Successfully created temporal traffic file\n"
     ]
    }
   ],
   "source": [
    "!python processdata.py"
   ]
  },
  {
   "cell_type": "code",
   "execution_count": null,
   "id": "981e726e-91e7-4aa4-af81-d09af34cdad9",
   "metadata": {},
   "outputs": [],
   "source": []
  }
 ],
 "metadata": {
  "instance_type": "ml.p3dn.24xlarge",
  "kernelspec": {
   "display_name": "Python 3 (TensorFlow 1.15 Python 3.6 CPU Optimized)",
   "language": "python",
   "name": "python3__SAGEMAKER_INTERNAL__arn:aws:sagemaker:us-east-1:081325390199:image/tensorflow-1.15-cpu-py36"
  },
  "language_info": {
   "codemirror_mode": {
    "name": "ipython",
    "version": 3
   },
   "file_extension": ".py",
   "mimetype": "text/x-python",
   "name": "python",
   "nbconvert_exporter": "python",
   "pygments_lexer": "ipython3",
   "version": "3.6.13"
  }
 },
 "nbformat": 4,
 "nbformat_minor": 5
}
