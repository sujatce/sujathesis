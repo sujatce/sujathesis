{
 "cells": [
  {
   "cell_type": "code",
   "execution_count": 20,
   "id": "a3b23eea-6dc9-4237-a084-bdfc1a2ec53b",
   "metadata": {
    "tags": []
   },
   "outputs": [
    {
     "name": "stdout",
     "output_type": "stream",
     "text": [
      "WARNING:tensorflow:From /usr/local/lib/python3.6/site-packages/tensorflow_core/__init__.py:1473: The name tf.estimator.inputs is deprecated. Please use tf.compat.v1.estimator.inputs instead.\n",
      "\n",
      "WARNING:tensorflow:From main.py:11: The name tf.ConfigProto is deprecated. Please use tf.compat.v1.ConfigProto instead.\n",
      "\n",
      "WARNING:tensorflow:From main.py:13: The name tf.Session is deprecated. Please use tf.compat.v1.Session instead.\n",
      "\n",
      "2022-11-29 07:50:09.497432: I tensorflow/core/platform/cpu_feature_guard.cc:145] This TensorFlow binary is optimized with Intel(R) MKL-DNN to use the following CPU instructions in performance critical operations:  AVX512F\n",
      "To enable them in non-MKL-DNN operations, rebuild TensorFlow with the appropriate compiler flags.\n",
      "2022-11-29 07:50:09.522224: I tensorflow/core/platform/profile_utils/cpu_utils.cc:94] CPU Frequency: 2499995000 Hz\n",
      "2022-11-29 07:50:09.522499: I tensorflow/compiler/xla/service/service.cc:168] XLA service 0x558152cda130 initialized for platform Host (this does not guarantee that XLA will be used). Devices:\n",
      "2022-11-29 07:50:09.522526: I tensorflow/compiler/xla/service/service.cc:176]   StreamExecutor device (0): Host, Default Version\n",
      "2022-11-29 07:50:09.522771: I tensorflow/core/common_runtime/process_util.cc:115] Creating new thread pool with default inter op setting: 2. Tune using inter_op_parallelism_threads for best performance.\n",
      "Training configs: Namespace(batch_size=5, epoch=50, graph='default', inf_mode='sep', ks=3, kt=3, lr=0.001, n_his=12, n_pred=9, n_route=59, opt='RMSProp', save=1)\n",
      "(62, 62)\n",
      "(62, 62)\n",
      "WARNING:tensorflow:From main.py:69: The name tf.add_to_collection is deprecated. Please use tf.compat.v1.add_to_collection instead.\n",
      "\n",
      "(200, 62)\n",
      "Length of target data sequence, len_seq= 6\n",
      "Number of frame within a standard sequence unit, n_frame= 21\n",
      "day_slot= 25\n",
      "n_slot=day_slot-n_frame+1= 5\n",
      "n_route= 62\n",
      "Starting index of different dataset type, offset= 0\n",
      "C_0: size of the input channel= 1\n",
      "tmp_seq.shape= (30, 21, 62, 1)\n",
      "Length of target data sequence, len_seq= 1\n",
      "Number of frame within a standard sequence unit, n_frame= 21\n",
      "day_slot= 25\n",
      "n_slot=day_slot-n_frame+1= 5\n",
      "n_route= 62\n",
      "Starting index of different dataset type, offset= 6\n",
      "C_0: size of the input channel= 1\n",
      "tmp_seq.shape= (5, 21, 62, 1)\n",
      "Length of target data sequence, len_seq= 1\n",
      "Number of frame within a standard sequence unit, n_frame= 21\n",
      "day_slot= 25\n",
      "n_slot=day_slot-n_frame+1= 5\n",
      "n_route= 62\n",
      "Starting index of different dataset type, offset= 7\n",
      "C_0: size of the input channel= 1\n",
      "tmp_seq.shape= (5, 21, 62, 1)\n",
      "{'mean': 1.0215821812596007, 'std': 1.1716353075669428}\n",
      "train.shape= (30, 21, 62, 1)\n",
      "val.shape= (5, 21, 62, 1)\n",
      "test.shape= (5, 21, 62, 1)\n",
      ">> Loading dataset with Mean: 1.02, STD: 1.17\n",
      "For model_test, first load the model(*.meta) from  ./output/models/STGCN-6\n",
      "WARNING:tensorflow:From /root/sujathesis/suja_stgcn/models/tester.py:128: The name tf.train.import_meta_graph is deprecated. Please use tf.compat.v1.train.import_meta_graph instead.\n",
      "\n",
      "load the latest checkpoint file\n",
      ">> Loading saved model from ./output/models/STGCN-6 ...\n",
      "Load the y_pred (which is predicted out x_test) from saved model\n",
      "[<tf.Tensor 'strided_slice_4:0' shape=(?, 62, 1) dtype=float32>]\n",
      "Identify step index from inf_mode (sep or merge)\n",
      "step_idx\n",
      "8\n",
      "Load the x_test data\n",
      "x_test dimension (5, 21, 62, 1)\n",
      "{'mean': 1.0215821812596007, 'std': 1.1716353075669428}\n",
      "From x_test data, predict y_test data using the test session from saved model\n",
      "Multi_Pred Method invoked\n",
      "batch_size =  5  ; len(seq) =  5\n",
      "len_test 5\n",
      "y_test.shape =  (5, 62, 1)\n",
      "len_test =  5\n",
      "step_idx =  8\n",
      "n_his =  12\n",
      "step_idx+n_his= 20\n",
      "extract x_test for its step_idx records only. its shape is  (5, 62, 1)\n",
      "len(y_test.shape)= 3\n",
      "Evaluate x_test with y_test for given step index\n",
      "3\n",
      "loss_diff.shape= (5, 62, 1)\n",
      "threshold =  3.3648527963934862\n",
      "Traceback (most recent call last):\n",
      "  File \"main.py\", line 86, in <module>\n",
      "    model_test(input_data, input_data.get_len('test'), n_his, n_pred, args.inf_mode,n)\n",
      "  File \"/root/sujathesis/suja_stgcn/models/tester.py\", line 184, in model_test\n",
      "    for i in loss_diff.shape[0]:\n",
      "TypeError: 'int' object is not iterable\n"
     ]
    }
   ],
   "source": [
    "!python main.py"
   ]
  },
  {
   "cell_type": "code",
   "execution_count": null,
   "id": "ce934a8a-4586-4f48-90cf-772fa3680bf4",
   "metadata": {},
   "outputs": [],
   "source": []
  },
  {
   "cell_type": "code",
   "execution_count": 7,
   "id": "f7dadb9a-1b6a-430b-8286-fb81f1a6cec0",
   "metadata": {
    "tags": []
   },
   "outputs": [
    {
     "name": "stdout",
     "output_type": "stream",
     "text": [
      "Goal: using the input file  data/input/trafficData_V50.csv  , prepare a graphical representation of RPC Node Pair calls and its traffic distribution into File1: adjacency weight matrix(spatial data) and File2:traffic data (Temporal Data)\n",
      "sys:1: DtypeWarning: Columns (41,42,43) have mixed types. Specify dtype option on import or set low_memory=False.\n",
      "1669695896798586\n",
      "2022-11-29 04:24:56.798586\n",
      "translated timestamp into visible format in CSV file -  data/V50_step1_TS_trafficData.csv\n",
      "Step 2 - Translate all traces and spans into trace,source, destination, rpcCall, rpcNumber, startTime and Timestamp. Also summarize the total event types\n",
      "Test Number: 50\n",
      "\n",
      "\n",
      "Total Number of spans: 16995\n",
      "\n",
      "Total Number of event types: 56\n",
      "\n",
      "Total number of traces: 918\n",
      "Span List is stored in  data/V50_mySpanDataDF.csv\n",
      "Step 3 - This step extracts all RPCNodePairs from traffic file.\n",
      "Length of my span list (16995, 7)\n",
      "Length of destination 16995\n",
      "rpcPairNodes and myStaticRPCNodeList are created\n",
      "Step 4 - This step generates Weighted Adjacency Matrix from RPC Node pair list, This is Spatial representation of Traffic Data\n",
      "Adjacency Matrix is created\n",
      "Step 5 - This step translates traffic file into graphical representation such as each traffic call with its corresponding RPC node pairs\n",
      "Step 5 Completed - \n",
      "Step 6 - This step creates Temporal file for traffic data by translating the traffic timestamps into given intervals and populating the total traffic within each timeslot for each RPC Node Pair-Traffic Node - This is Temporal Traffic file\n",
      "step 6 started - compute the traffic of all microservice pair nodes at fixed time periods\n",
      "get time intervals\n",
      "first_ts 1669695896798000\n",
      "last_ts 1669696018329007\n",
      "range(1669695896798000, 1669696018329008)\n",
      "610709\n",
      "time_stamp_intervals -  [1669695897316469, 1669695897927178, 1669695898537887, 1669695899148596, 1669695899759305, 1669695900370014, 1669695900980723, 1669695901591432, 1669695902202141, 1669695902812850, 1669695903423559, 1669695904034268, 1669695904644977, 1669695905255686, 1669695905866395, 1669695906477104, 1669695907087813, 1669695907698522, 1669695908309231, 1669695908919940, 1669695909530649, 1669695910141358, 1669695910752067, 1669695911362776, 1669695911973485, 1669695912584194, 1669695913194903, 1669695913805612, 1669695914416321, 1669695915027030, 1669695915637739, 1669695916248448, 1669695916859157, 1669695917469866, 1669695918080575, 1669695918691284, 1669695919301993, 1669695919912702, 1669695920523411, 1669695921134120, 1669695921744829, 1669695922355538, 1669695922966247, 1669695923576956, 1669695924187665, 1669695924798374, 1669695925409083, 1669695926019792, 1669695926630501, 1669695927241210, 1669695927851919, 1669695928462628, 1669695929073337, 1669695929684046, 1669695930294755, 1669695930905464, 1669695931516173, 1669695932126882, 1669695932737591, 1669695933348300, 1669695933959009, 1669695934569718, 1669695935180427, 1669695935791136, 1669695936401845, 1669695937012554, 1669695937623263, 1669695938233972, 1669695938844681, 1669695939455390, 1669695940066099, 1669695940676808, 1669695941287517, 1669695941898226, 1669695942508935, 1669695943119644, 1669695943730353, 1669695944341062, 1669695944951771, 1669695945562480, 1669695946173189, 1669695946783898, 1669695947394607, 1669695948005316, 1669695948616025, 1669695949226734, 1669695949837443, 1669695950448152, 1669695951058861, 1669695951669570, 1669695952280279, 1669695952890988, 1669695953501697, 1669695954112406, 1669695954723115, 1669695955333824, 1669695955944533, 1669695956555242, 1669695957165951, 1669695957776660, 1669695958387369, 1669695958998078, 1669695959608787, 1669695960219496, 1669695960830205, 1669695961440914, 1669695962051623, 1669695962662332, 1669695963273041, 1669695963883750, 1669695964494459, 1669695965105168, 1669695965715877, 1669695966326586, 1669695966937295, 1669695967548004, 1669695968158713, 1669695968769422, 1669695969380131, 1669695969990840, 1669695970601549, 1669695971212258, 1669695971822967, 1669695972433676, 1669695973044385, 1669695973655094, 1669695974265803, 1669695974876512, 1669695975487221, 1669695976097930, 1669695976708639, 1669695977319348, 1669695977930057, 1669695978540766, 1669695979151475, 1669695979762184, 1669695980372893, 1669695980983602, 1669695981594311, 1669695982205020, 1669695982815729, 1669695983426438, 1669695984037147, 1669695984647856, 1669695985258565, 1669695985869274, 1669695986479983, 1669695987090692, 1669695987701401, 1669695988312110, 1669695988922819, 1669695989533528, 1669695990144237, 1669695990754946, 1669695991365655, 1669695991976364, 1669695992587073, 1669695993197782, 1669695993808491, 1669695994419200, 1669695995029909, 1669695995640618, 1669695996251327, 1669695996862036, 1669695997472745, 1669695998083454, 1669695998694163, 1669695999304872, 1669695999915581, 1669696000526290, 1669696001136999, 1669696001747708, 1669696002358417, 1669696002969126, 1669696003579835, 1669696004190544, 1669696004801253, 1669696005411962, 1669696006022671, 1669696006633380, 1669696007244089, 1669696007854798, 1669696008465507, 1669696009076216, 1669696009686925, 1669696010297634, 1669696010908343, 1669696011519052, 1669696012129761, 1669696012740470, 1669696013351179, 1669696013961888, 1669696014572597, 1669696015183306, 1669696015794015, 1669696016404724, 1669696017015433, 1669696017626142, 1669696018236851, 1669696018847560]\n",
      "length of time stamp intervals -  200\n",
      "length =  16995\n",
      "computing microservice traffic for temporal interval is completed\n",
      "Successfully created temporal traffic file\n"
     ]
    }
   ],
   "source": [
    "!python processdata.py"
   ]
  },
  {
   "cell_type": "code",
   "execution_count": 5,
   "id": "b80fe00c-244c-4026-bb1f-d296c8e46bba",
   "metadata": {
    "tags": []
   },
   "outputs": [
    {
     "name": "stdout",
     "output_type": "stream",
     "text": [
      "/root/sujathesis/DataPreProcessing\n"
     ]
    }
   ],
   "source": [
    "cd DataPreProcessing"
   ]
  },
  {
   "cell_type": "code",
   "execution_count": 2,
   "id": "2e68339f-bb0d-4c6d-ac6f-c745c17c8583",
   "metadata": {
    "tags": []
   },
   "outputs": [
    {
     "name": "stdout",
     "output_type": "stream",
     "text": [
      "Untitled.ipynb       input_data_train.csv  ms_traffic_Weight_matrix.csv\n",
      "cheb_poly.csv        input_data_val.csv    \u001b[0m\u001b[01;34moutput\u001b[0m/\n",
      "\u001b[01;34mdata_loader\u001b[0m/         loss_diff_1.csv       scaled_laplacian.csv\n",
      "\u001b[01;34mdataset\u001b[0m/             \u001b[01;34mmae_loss_plots\u001b[0m/       \u001b[01;34mutils\u001b[0m/\n",
      "\u001b[01;34mgraphs\u001b[0m/              main.py\n",
      "input_data_test.csv  \u001b[01;34mmodels\u001b[0m/\n"
     ]
    }
   ],
   "source": []
  },
  {
   "cell_type": "code",
   "execution_count": null,
   "id": "310107ca-f0b7-48b1-860b-72c4ec846706",
   "metadata": {},
   "outputs": [],
   "source": [
    "cd "
   ]
  }
 ],
 "metadata": {
  "instance_type": "ml.g4dn.xlarge",
  "kernelspec": {
   "display_name": "Python 3 (TensorFlow 1.15 Python 3.6 CPU Optimized)",
   "language": "python",
   "name": "python3__SAGEMAKER_INTERNAL__arn:aws:sagemaker:us-east-1:081325390199:image/tensorflow-1.15-cpu-py36"
  },
  "language_info": {
   "codemirror_mode": {
    "name": "ipython",
    "version": 3
   },
   "file_extension": ".py",
   "mimetype": "text/x-python",
   "name": "python",
   "nbconvert_exporter": "python",
   "pygments_lexer": "ipython3",
   "version": "3.6.13"
  }
 },
 "nbformat": 4,
 "nbformat_minor": 5
}
